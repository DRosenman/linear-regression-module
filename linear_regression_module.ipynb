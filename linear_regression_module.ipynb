{
 "cells": [
  {
   "cell_type": "code",
   "execution_count": 4,
   "metadata": {
    "collapsed": false
   },
   "outputs": [],
   "source": [
    "import numpy as np\n",
    "import matplotlib.pyplot as plt\n",
    "import linear_regression as lr # This is my linear regression module\n",
    "import figures\n",
    "from scipy.stats import stats\n",
    "import data"
   ]
  },
  {
   "cell_type": "markdown",
   "metadata": {},
   "source": [
    "# My Linear Regression Python Module\n",
    "\n",
    "## Intro\n",
    "The SciPy library is the most widely used scientific library for the Python  programming language. It's statistic package has a function for performing linear regression, *linregress*. To perform linear regression with linregress, you simply need to create two lists. If you have a set of measurements of *(x,y)* values, you simply need to create a list to store your *x* values and a corresponding list of *y* values.\n",
    "\n",
    "For example, you have the following data points: *(2,4),(6,8),* and *(10,12)*. Here's how to perform linear regression using the least squared method with *linregress*."
   ]
  },
  {
   "cell_type": "code",
   "execution_count": 5,
   "metadata": {
    "collapsed": false
   },
   "outputs": [
    {
     "data": {
      "text/plain": [
       "LinregressResult(slope=1.0625, intercept=2.125, rvalue=0.99484975116710983, pvalue=0.064639173827150634, stderr=0.10825317547305446)"
      ]
     },
     "execution_count": 5,
     "metadata": {},
     "output_type": "execute_result"
    }
   ],
   "source": [
    "x = [2,6,10]\n",
    "y = [4,9,12.5]\n",
    "stats.linregress(x,y)"
   ]
  },
  {
   "cell_type": "markdown",
   "metadata": {},
   "source": [
    "So *linregress* returns the best-fit slope, the best fit intercept, the correlation coefficient (r), the p-value, and standard error of the best fit slope. \n",
    "\n",
    "There are a few features that *lingress* does not provide that was relevant to data analysis for experiments in this course. It isn't possible to force the  best-fit slope for any data set to go through the origin. *linregress* also doesn't provide the standard error of the y-intercept. So I wanted to recreate a module that provides the same information as *linregress*, with some additional features. \n",
    "\n",
    "## Regression Equations\n",
    "\n",
    "For this course, we were assigned the book \"Practical Physics\" by G.L. Squirres. So I wanted use the linear regression equations from the course textbook to build my module. All the equations listed in this notebook are from \"Practical Physics\", pages 31-32."
   ]
  },
  {
   "cell_type": "markdown",
   "metadata": {},
   "source": [
    "For a set of n datapoints, $x_i$ stands for the i-th value of x, and $y_i$ stands for the i-th value of $y$. $\\bar{x}$ stands fr the mea value of x and $\\bar{y}$ for the mean value of y. \n",
    "\n",
    "### The Best Fit Slope\n",
    "From pg 39 of Squirres, the equation for the best fit slope, m, is\n",
    "\n",
    "$$ m = \\frac{\\sum{(x_i - \\bar{x})y_i}}{\\sum{(x_i-\\bar{x})^2}}$$\n",
    "\n",
    "Here's a simple test that shows that, at least for the data set I used below, *linregress*, my module, and the equation above all arrive at the same best-fit-slope.\n",
    "\n",
    "So let's test the set of data points $(x,y)=(0,3),(3,5),(6,11),(11,24)$. I will stick with that data set for all of my functions that have a counterpart in *linregress*. And I will use the data set $(x_0,y_0) = (1,1),(3,5),(5,12)$ for functions I created that have no counter part in *linregresss*."
   ]
  },
  {
   "cell_type": "code",
   "execution_count": 6,
   "metadata": {
    "collapsed": false
   },
   "outputs": [
    {
     "name": "stdout",
     "output_type": "stream",
     "text": [
      "best fit slope calculated \"from scratch\" = 2.1212121212e+00\n",
      "best fit slope from linregress = 2.1212121212e+00\n",
      "best fit slope from my module = 2.1212121212e+00\n"
     ]
    }
   ],
   "source": [
    "x = [0,3,6,11] # The mean value of x is (0+3+6+11)/4 = 20/4=5\n",
    "y = [1,5,11,24]\n",
    "x_0 = [1,3,5]\n",
    "y_0 = [1,5,12]\n",
    "\n",
    "### The numerator of m...one sum at a time.\n",
    "sum_list_top = [] \n",
    "sum_list_top.append((0-5)*1) \n",
    "sum_list_top.append((3-5)*5)  \n",
    "sum_list_top.append((6-5)*11) \n",
    "sum_list_top.append((11-5)*24) \n",
    "sum_list_top = np.array(sum_list_top)\n",
    "sum_top = sum_list_top.sum() \n",
    "\n",
    "### Next, I'll calculate the denominator... one sum at a time.\n",
    "sum_list_bottom = [] \n",
    "sum_list_bottom.append((0-5)**2) \n",
    "sum_list_bottom.append((3-5)**2) \n",
    "sum_list_bottom.append((6-5)**2) \n",
    "sum_list_bottom.append((11-5)**2) \n",
    "sum_list_bottom = np.array(sum_list_bottom)\n",
    "sum_bottom = sum_list_bottom.sum() \n",
    "\n",
    "### Now I'll calculate the slope\n",
    "slope_from_scratch = sum_top/sum_bottom\n",
    "linregress_slope = stats.linregress(x,y)[0]   \n",
    "slope_from_my_module = lr.slope(x,y) # I imported my module as lr so that I wouldn't have to \n",
    "                                     # keep typing linear_regression over and over again.\n",
    "    \n",
    "print('best fit slope calculated \"from scratch\" = {:.10e}'.format(slope_from_scratch))\n",
    "print('best fit slope from linregress = {:.10e}'.format(linregress_slope))\n",
    "print('best fit slope from my module = {:.10e}'.format(slope_from_my_module))\n"
   ]
  },
  {
   "cell_type": "markdown",
   "metadata": {},
   "source": [
    "Here's my module's code for calculating the best fit slope:\n",
    "```python\n",
    "def slope(x,y,through_origin = False):\n",
    "    x = np.array(x)\n",
    "    y = np.array(y)\n",
    "    if through_origin == False:\n",
    "        x = np.array(x)\n",
    "        y = np.array(y)\n",
    "        return ((x-x.mean())*y).sum()/((x-x.mean())**2).sum()\n",
    "    else:\n",
    "        return ((x*y).sum())/(x**2).sum()\n",
    "```\n",
    "One option that I added, which is not available with linregress, is to force the best fit line to go through the origin.\n",
    "\n",
    "#### The slope for the best fit line through the origin is\n",
    "$$m = \\frac{\\sum x_iy_i}{\\sum x_i^2}$$\n",
    "\n",
    "Since *linregress* doesn't have this feature, I will just compare the error I recieve from my own module with a calculation 'from scratch' using the equation above."
   ]
  },
  {
   "cell_type": "code",
   "execution_count": 7,
   "metadata": {
    "collapsed": false
   },
   "outputs": [
    {
     "name": "stdout",
     "output_type": "stream",
     "text": [
      " x_0 = [1, 3, 5]\n",
      " y_0 = [1, 5, 12]\n",
      "Best-Fit Slope Numerator Calculation: 1*1 + 3*5 + 5*12 = 76\n",
      "Best-Slope Denominator Calcuation: 1*1 + 3*3 + 5*5 = 35\n",
      "\n",
      "Best-Fit Slope Calculated 'From Scratch =  76/35 = 2.1714285714285713\n",
      "Best-Fit Slope From My Module = 2.1714285714285713 \n",
      "PERFECT AGREEMENT\n"
     ]
    }
   ],
   "source": [
    "print(' x_0 = ' + str(x_0))\n",
    "print(' y_0 = ' +str(y_0))\n",
    "\n",
    "print(\"Best-Fit Slope Numerator Calculation: \" + \"1*1 + 3*5 + 5*12 = \" + str(1*1+3*5+5*12))\n",
    "print(\"Best-Slope Denominator Calcuation: \" + \"1*1 + 3*3 + 5*5 = \" + str(1*1+3*3+5*5) + '\\n')\n",
    "print(\"Best-Fit Slope Calculated 'From Scratch =  \" + \"76/35 = \"  + str(76/35))\n",
    "print(\"Best-Fit Slope From My Module = {} \".format(lr.slope(x_0,y_0,through_origin = True)))\n",
    "print(\"PERFECT AGREEMENT\")"
   ]
  },
  {
   "cell_type": "markdown",
   "metadata": {},
   "source": [
    "### Best-Fit-Intercept\n",
    "The y-intercept of the line of best fit, c, is\n",
    "$$c = \\bar{y} - m\\cdot{\\bar{x}}$$\n",
    "with $m$ being the slope of the best fit line.\n",
    "\n",
    "Here is the function I created to calculate the intercept:\n",
    "```python\n",
    "def intercept(x,y,through_origin = False):\n",
    "    if through_origin == False:\n",
    "        x = np.array(x)\n",
    "        y = np.array(y)\n",
    "        return y.mean() - slope(x,y)*x.mean()\n",
    "    else:\n",
    "        return 0.0\n",
    "```\n",
    "\n",
    "I will use the same dataset that I used to test my slope function to test my intercept function."
   ]
  },
  {
   "cell_type": "code",
   "execution_count": 8,
   "metadata": {
    "collapsed": false
   },
   "outputs": [
    {
     "name": "stdout",
     "output_type": "stream",
     "text": [
      "x = [0, 3, 6, 11]\n",
      "y = [1, 5, 11, 24]\n"
     ]
    }
   ],
   "source": [
    "# Data set: (0,3),(3,5),(6,11),(11,24)\n",
    "# Slope of best fit line: 2.1212121212\n",
    "\n",
    "print('x = ' + str(x))\n",
    "print('y = ' + str(y))"
   ]
  },
  {
   "cell_type": "markdown",
   "metadata": {
    "collapsed": true
   },
   "source": [
    "The average value of x is $(0+3+6+11)/4 = 5$\n",
    "\n",
    "The average value of y is $(1+5+11+24)/4 = 41/4$\n",
    "\n",
    "The slope is $2.1212121212$"
   ]
  },
  {
   "cell_type": "code",
   "execution_count": 9,
   "metadata": {
    "collapsed": false
   },
   "outputs": [
    {
     "name": "stdout",
     "output_type": "stream",
     "text": [
      "best fit intercept calculated \"from scratch\" = -3.56060606e-01\n",
      "best fit intercept from linregress = -3.56060606e-01\n",
      "best fit intercept from my module = -3.56060606e-01\n",
      "THEY ALL AGREE\n"
     ]
    }
   ],
   "source": [
    "intercept_from_scratch = (41/4) - 2.1212121212*5\n",
    "intercept_from_my_module = lr.intercept(x,y)\n",
    "linregress_intercept = stats.linregress(x,y)[1]\n",
    "print('best fit intercept calculated \"from scratch\" = {:.8e}'.format(intercept_from_scratch))\n",
    "print('best fit intercept from linregress = {:.8e}'.format(linregress_intercept))\n",
    "print('best fit intercept from my module = {:.8e}'.format(intercept_from_my_module))\n",
    "print(\"THEY ALL AGREE\")"
   ]
  },
  {
   "cell_type": "markdown",
   "metadata": {},
   "source": [
    "I also added a plotting function to my module to make it easy to plot a set of data points with a line of best fit.\n",
    "Here's the code:\n",
    "```python\n",
    "def plot_graph(x,y, through_origin = False):\n",
    "    plt.plot(x, y, 'o', label='original data')\n",
    "    if through_origin == False:\n",
    "        plt.plot(x, intercept(x,y) + slope(x,y)*x, 'r', label='fitted line')\n",
    "    else:\n",
    "        plt.plot(x,slope(x,y)*x, 'r', label = 'fitted line')\n",
    "    \n",
    "```\n",
    "\n",
    "Here's a plot of the data set I used to test my slope and intercept functions"
   ]
  },
  {
   "cell_type": "code",
   "execution_count": 10,
   "metadata": {
    "collapsed": false
   },
   "outputs": [
    {
     "data": {
      "image/png": "[encoded data removed]",
      "text/plain": [
       "<matplotlib.figure.Figure at 0x1be327cbf60>"
      ]
     },
     "metadata": {},
     "output_type": "display_data"
    }
   ],
   "source": [
    "lr.plot_graph(x,y)\n",
    "plt.legend()\n",
    "plt.show()"
   ]
  },
  {
   "cell_type": "markdown",
   "metadata": {},
   "source": [
    "### Standard Error of Slope\n",
    "The standard error of the best fit line, $\\Delta m$, is given by\n",
    "$${\\left( {\\Delta m} \\right)^2} = \\frac{1}{{\\sum {{{\\left( {{x_i} - \\bar x} \\right)}^2}} }}\\frac{{\\sum {{{\\left( {{y_i} - m{x_i} - c} \\right)}^2}} }}{{n - 2}}$$\n",
    "\n",
    "\n",
    "Here's my module's function for calculating the standard error\n",
    "```python\n",
    "def slope_error(x,y,through_origin = False):\n",
    "    x = np.array(x)\n",
    "    y = np.array(y)\n",
    "    n = len(x)\n",
    "    \n",
    "    if through_origin == False:\n",
    "        residuals_squared = (y - slope(x,y)*x - intercept(x,y))**2\n",
    "        residuals_squared_sum = residuals_squared.sum()\n",
    "        D = ((x-x.mean())**2).sum()\n",
    "        return np.sqrt((1/(n-2))*residuals_squared_sum/D)\n",
    "    else:\n",
    "        residuals_squared = (y - slope(x,y,True)*x)**2\n",
    "        return np.sqrt(residuals_squared.sum()/((n-1)*(x**2).sum()))\n",
    "```\n",
    "\n",
    "I will now use the previous values calculated for the data set (x,y) and the general equation for the best fit line to test my module. "
   ]
  },
  {
   "cell_type": "code",
   "execution_count": 11,
   "metadata": {
    "collapsed": false
   },
   "outputs": [
    {
     "name": "stdout",
     "output_type": "stream",
     "text": [
      "x = [0, 3, 6, 11]\n",
      "y = [1, 5, 11, 24]\n",
      "m = 2.1212121212e+00\n",
      "c = -3.56060606e-01\n",
      "mean value of x = 5\n",
      "Calculation, from scratch of the standard error of the slope squared:\n",
      "     Denominator of first fact = 66\n",
      "     Numerator of second factor = 5.7803030303\n",
      "     Denominator of second factor = n - 2 = 4-2 = 2\n",
      "      \n",
      "      slope error squared = (1/66*2)*5.7803030303 = 0.043790174472\n",
      " \n",
      "\n",
      "best fit slope standard error calculated \"from scratch\" = 0.20926102\n",
      "best fit slope standard error from linregress = 2.09261020e-01\n",
      "best fit slope standard error from my module = 2.09261020e-01\n"
     ]
    }
   ],
   "source": [
    "c = lr.intercept(x,y)\n",
    "m = lr.slope(x,y)\n",
    "denominator_first_factor = 25+4+1+36\n",
    "num_second_factor = (1-m*0-c)**2+(5-m*3-c)**2 + (11-m*6-c)**2 + (24-m*11-c)**2\n",
    "slope_error_squared_from_scratch = num_second_factor/(denominator_first_factor*2)\n",
    "\n",
    "slope_error_from_scratch = np.sqrt(slope_error_squared_from_scratch)\n",
    "linregress_slope_error = stats.linregress(x,y)[4]\n",
    "slope_error_from_my_module = lr.slope_error(x,y)\n",
    "\n",
    "print('x = ' + str(x))\n",
    "print('y = ' + str(y))\n",
    "print('m = 2.1212121212e+00')\n",
    "print('c = -3.56060606e-01')\n",
    "print('mean value of x = 5')\n",
    "print('Calculation, from scratch of the standard error of the slope squared:\\n' \n",
    "      '     Denominator of first fact = ' + str(denominator_first_factor) +'\\n'\n",
    "      '     Numerator of second factor = ' + str(num_second_factor) + '\\n' \n",
    "      '     Denominator of second factor = n - 2 = 4-2 = 2\\n '\n",
    "      '     \\n '\n",
    "      '     slope error squared = (1/66*2)*5.7803030303 = ' + str(slope_error_squared_from_scratch) +'\\n \\n')\n",
    "\n",
    "print('best fit slope standard error calculated \"from scratch\" = {:.8}'.format(slope_error_from_scratch))\n",
    "print('best fit slope standard error from linregress = {:.8e}'.format(linregress_slope_error))\n",
    "print('best fit slope standard error from my module = {:.8e}'.format(slope_error_from_my_module))\n"
   ]
  },
  {
   "cell_type": "markdown",
   "metadata": {},
   "source": [
    "#### Standard error of the slope of the best fit line through the origin\n",
    "\n",
    "If the line is forced to go through the origin, the formula for the slope of the best fit line is given by\n",
    "$$(\\Delta m)^2 = \\frac{1}{\\sum x_i^2}\\frac{\\sum d_i^2}{n-1}$$\n",
    "\n",
    "*linregress* doesn't provide the option to force the best fit line through the origin, so I can only test my module with a \"from scratch\" calculation. I will again use the $(x_0,y_0$) data set, and the value I calculated for the slope of the best fit line through the origin."
   ]
  },
  {
   "cell_type": "code",
   "execution_count": 14,
   "metadata": {
    "collapsed": false
   },
   "outputs": [
    {
     "name": "stdout",
     "output_type": "stream",
     "text": [
      "x_0 = [1, 3, 5]\n",
      "y_0 = [1, 3, 5]\n",
      "\n"
     ]
    }
   ],
   "source": [
    "print('x_0 = ' + str(x_0) +'\\n'\n",
    "      'y_0 = ' + str(x_0) + '\\n')\n"
   ]
  },
  {
   "cell_type": "markdown",
   "metadata": {},
   "source": [
    "### Special Graphs for Regression Equations that Cross the Origin\n",
    "In our magnetic, we were trying to figure out the magnetic moment for an electric.. Our line seemed to fit the data incredibly closely. The model equation was of the form y = mx. I was very surprised at how close our data points were to forming a perfectly straight line, since our measurements involved timing the rotational period of a rotating objection. It was difficult to tell when to start and stop our timer, so I expected it would be difficult to get a close fit. In cases when your model is equivalent to $y=mx$, a best fit graph isn't the only way to be able to visualize the linearity (or lack thereof) of your data. \n",
    "\n",
    "For example, instead of plotting the best fit line y = mx, it is possible to plot y-x versus x. \n",
    "\n",
    "I created a function *plot_y_minus_x* to do just that. It was just took a simple tweak of my *plot_graph* function. I also had to make sure that if *0* was an x coordinate for one of the points, that point would be removed from the data set, since dividing by zero is not allowed.\n",
    "\n",
    "```python\n",
    "def plot_y_over_x(x,y):\n",
    "    x = np.array(x)\n",
    "    y = np.array(y) \n",
    "    plt.plot(x[x!=0],y[x!=0]/x[x!=0],'o',label = 'original data')\n",
    "    plt.hlines(slope(x,y,True), x.min(), x.max(), colors='k', linestyles='solid', label = 'best fit line')\n",
    "    ```\n",
    "        \n"
   ]
  },
  {
   "cell_type": "code",
   "execution_count": 10,
   "metadata": {
    "collapsed": false
   },
   "outputs": [
    {
     "data": {
      "image/png": "[encoded data removed]",
      "text/plain": [
       "<matplotlib.figure.Figure at 0x23dd3428d68>"
      ]
     },
     "execution_count": 10,
     "metadata": {},
     "output_type": "execute_result"
    }
   ],
   "source": [
    "data.fig"
   ]
  },
  {
   "cell_type": "markdown",
   "metadata": {
    "collapsed": true
   },
   "source": [
    "The horizontal line in the graph on the left is the slope of the line in the second graph. Just plotting y-versus-x for this dataset, it looks likes our data-set matched the best fit line very closely. But y/x is much more sensitive to tiny deviations than y-versus x."
   ]
  },
  {
   "cell_type": "markdown",
   "metadata": {},
   "source": [
    "### Standard Intercept Error\n",
    "*linregress* does not provide the standard error of the y-intercept. 'Pratical Physics', however, derives an equation for the standard error of the intercept, so I included it in my module.\n",
    "\n",
    "The standard error of the intercept, $\\Delta c$ is defined by\n",
    "$$(\\Delta c)^2 = \\left(\\frac{1}{n} + \\frac{\\bar{x}^2}{\\sum{(x_i - \\bar{x})^2}}\\right)\\cdot \\frac{\\sum{(y_i - m \\cdot x_i)^2}}{n-2}$$\n",
    "\n",
    "My modules *intercept_error* function:\n",
    "```python\n",
    "def intercept_error(x,y,through_origin = False):\n",
    "    if through_origin == False:\n",
    "        x = np.array(x)\n",
    "        y = np.array(y)\n",
    "        n = len(x)\n",
    "        D = ((x-x.mean())**2).sum()\n",
    "        residuals_squared = (y - slope(x,y)*x - intercept(x,y))**2\n",
    "        return np.sqrt(((1/n) + (x.mean()**2)/D)\n",
    "                       *residuals_squared.sum()/(n-2))\n",
    "    else:\n",
    "        return 0.0\n",
    "        ````"
   ]
  },
  {
   "cell_type": "code",
   "execution_count": 9,
   "metadata": {
    "collapsed": false
   },
   "outputs": [],
   "source": [
    "x_0 = np.array([1,3,5])\n",
    "y_0 = np.array([1,5,12])\n"
   ]
  },
  {
   "cell_type": "code",
   "execution_count": 97,
   "metadata": {
    "collapsed": true
   },
   "outputs": [],
   "source": [
    "\n"
   ]
  },
  {
   "cell_type": "code",
   "execution_count": 98,
   "metadata": {
    "collapsed": false
   },
   "outputs": [
    {
     "data": {
      "text/plain": [
       "0.20926101995353233"
      ]
     },
     "execution_count": 98,
     "metadata": {},
     "output_type": "execute_result"
    }
   ],
   "source": [
    "slope_error(x,y)"
   ]
  },
  {
   "cell_type": "code",
   "execution_count": null,
   "metadata": {
    "collapsed": true
   },
   "outputs": [],
   "source": []
  }
 ],
 "metadata": {
  "kernelspec": {
   "display_name": "Python 3",
   "language": "python",
   "name": "python3"
  },
  "language_info": {
   "codemirror_mode": {
    "name": "ipython",
    "version": 3
   },
   "file_extension": ".py",
   "mimetype": "text/x-python",
   "name": "python",
   "nbconvert_exporter": "python",
   "pygments_lexer": "ipython3",
   "version": "3.6.0"
  }
 },
 "nbformat": 4,
 "nbformat_minor": 2
}
